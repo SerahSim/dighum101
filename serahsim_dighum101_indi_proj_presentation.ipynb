{
  "cells": [
    {
      "cell_type": "markdown",
      "metadata": {
        "id": "view-in-github",
        "colab_type": "text"
      },
      "source": [
        "<a href=\"https://colab.research.google.com/github/SerahSim/dighum101/blob/main/serahsim_dighum101_indi_proj_presentation.ipynb\" target=\"_parent\"><img src=\"https://colab.research.google.com/assets/colab-badge.svg\" alt=\"Open In Colab\"/></a>"
      ]
    },
    {
      "cell_type": "markdown",
      "metadata": {
        "id": "ekuWN__gHFIY"
      },
      "source": [
        "# **DIGHUM 101: Digital text analysis of political speeches**\n",
        "\n",
        "## **Serah Sim - Summer 2023**\n",
        "\n",
        "The goal of this project is to apply the methods from this course to analyze political speeches from different eras. \"Digital text analysis of political speeches,\" is related to both NLP and digital humanities in the following ways:\n",
        "\n",
        "1. Digital Preservation and Accessibility: Analyzing digitized political speeches preserves and provides access to cultural artifacts, aligning with digital humanities goals.\n",
        "2. Computational Analysis of Texts: NLP techniques reveal insights, patterns, and rhetorical strategies in political speeches through computational methods.\n",
        "3. Text Mining and Textual Analysis: Large-scale analysis of speeches uncovers keywords, themes, sentiment, and societal impact, aiding the exploration of political ideologies and public opinion.\n",
        "4. Historical and Cultural Context: Studying speeches from different eras deepens understanding of historical and cultural changes, connecting textual analysis with broader historical and cultural studies in digital humanities.\n",
        "\n",
        "\n",
        "I propose analyzing the part of speech (POS) in famous speeches of three United States presidents (JFK, Obama, and Biden) to explore the \"4. Historical and Cultural Context\" aspect.\n",
        "\n",
        "\n",
        "By analyzing the part of speech in politicians' speeches, you can gain insights into language use, historical shifts, sociopolitical contexts, power dynamics, and linguistic markers of identity within a specific cultural and historical context. This deepens our understanding of political discourse and contributes to broader cultural and historical analyses. See below.\n",
        "\n",
        "- Cultural and Historical Context:\n",
        "\n",
        "    1. Linguistic patterns reflecting cultural norms and ideologies.\n",
        "    2. Language shifts and changes over time.\n",
        "\n",
        "- Sociopolitical Analysis:\n",
        "    1. Linguistic choices related to political ideologies or social movements.\n",
        "    2. Insights into sociopolitical contexts.\n",
        "- Comparative Analysis:\n",
        "    1. Similarities, differences, and cross-cultural variations.\n",
        "    2. Understanding the influence of cultural and historical factors.\n",
        "\n",
        "- Discourse Analysis and Power Dynamics:\n",
        "    1. Patterns of dominance, persuasion, and rhetoric.\n",
        "    2. Insights into power dynamics and discourse structures.\n",
        "\n",
        "- Linguistic Markers of Identity:\n",
        "    1. Identification of linguistic features associated with specific identities.\n",
        "    1. Understanding language's role in identity and belonging.\n",
        "\n",
        "\n",
        "# **Data**\n",
        "- [President John F. Kennedy's \"Peace Speech\"](https://youtu.be/0fkKnfk4k40)\n",
        "- [Watch Obama’s full speech on war powers resolution](http://www.cnn.com/2010/POLITICS/08/31/obama.speech.transcript/index.html)\n",
        "- [Watch in full: US President Joe Biden's speech in Poland, on ongoing war in Ukraine](https://www.youtube.com/live/E_mCNlcyg6s?feature=share)"
      ]
    },
    {
      "cell_type": "markdown",
      "source": [
        "Header image 1: John F. Kennedy\n",
        "\n",
        "\n",
        "> image from https://www.imdb.com/name/nm0448123/bio/\n",
        "\n"
      ],
      "metadata": {
        "id": "_hSCqNs9nIe3"
      }
    },
    {
      "cell_type": "code",
      "source": [
        "%%html\n",
        "<iframe src=\"https://drive.google.com/file/d/10ihT8kKJg4Fj2TtvLWGEav5eHu-B_yYE/preview\" width=\"640\" height=\"480\" allow=\"autoplay\"></iframe>"
      ],
      "metadata": {
        "colab": {
          "base_uri": "https://localhost:8080/",
          "height": 505
        },
        "id": "slHSN4XllyWr",
        "outputId": "b6493a30-a5ac-49ca-e4d6-8b70262df9a0"
      },
      "execution_count": null,
      "outputs": [
        {
          "output_type": "display_data",
          "data": {
            "text/plain": [
              "<IPython.core.display.HTML object>"
            ],
            "text/html": [
              "<iframe src=\"https://drive.google.com/file/d/10ihT8kKJg4Fj2TtvLWGEav5eHu-B_yYE/preview\" width=\"640\" height=\"480\" allow=\"autoplay\"></iframe>\n"
            ]
          },
          "metadata": {}
        }
      ]
    },
    {
      "cell_type": "markdown",
      "source": [
        "Header image 2: Barack Obama\n",
        "\n",
        "\n",
        "> image from https://encrypted-tbn0.gstatic.com/licensed-image?q=tbn:ANd9GcQBTWYt_OywJ_ZWteq6mAagQmGVuxj0gRGiWMpB9rChLfS-aAjuXthsfJuQ4JFgO2CEMoH6n_0vdxKrUrU\n",
        "\n"
      ],
      "metadata": {
        "id": "cxpO_pgLm57j"
      }
    },
    {
      "cell_type": "code",
      "source": [
        "%%html\n",
        "<iframe src=\"https://drive.google.com/file/d/16HzWy3_R91dgoBGmiV2Txt2B7Rr_1Tgi/preview\" width=\"640\" height=\"480\" allow=\"autoplay\"></iframe>"
      ],
      "metadata": {
        "colab": {
          "base_uri": "https://localhost:8080/",
          "height": 505
        },
        "id": "viAeO9irmVzN",
        "outputId": "6f750f37-b77d-474d-e726-35a757713e0f"
      },
      "execution_count": null,
      "outputs": [
        {
          "output_type": "display_data",
          "data": {
            "text/plain": [
              "<IPython.core.display.HTML object>"
            ],
            "text/html": [
              "<iframe src=\"https://drive.google.com/file/d/16HzWy3_R91dgoBGmiV2Txt2B7Rr_1Tgi/preview\" width=\"640\" height=\"480\" allow=\"autoplay\"></iframe>\n"
            ]
          },
          "metadata": {}
        }
      ]
    },
    {
      "cell_type": "markdown",
      "source": [
        "Header image 3: Joe Biden\n",
        "\n",
        "> image from https://www.whitehouse.gov/administration/president-biden/"
      ],
      "metadata": {
        "id": "hLBzlmO_mm50"
      }
    },
    {
      "cell_type": "code",
      "source": [
        "%%html\n",
        "<iframe src=\"https://drive.google.com/file/d/18d98Ls-8Og7hPYKEK0dVE4E5WDWgDZit/preview\" width=\"640\" height=\"480\" allow=\"autoplay\"></iframe>"
      ],
      "metadata": {
        "colab": {
          "base_uri": "https://localhost:8080/",
          "height": 505
        },
        "id": "fKQjys7qmVnR",
        "outputId": "92880c5e-a27a-4d70-aa70-ddf599d4c3f7"
      },
      "execution_count": null,
      "outputs": [
        {
          "output_type": "display_data",
          "data": {
            "text/plain": [
              "<IPython.core.display.HTML object>"
            ],
            "text/html": [
              "<iframe src=\"https://drive.google.com/file/d/18d98Ls-8Og7hPYKEK0dVE4E5WDWgDZit/preview\" width=\"640\" height=\"480\" allow=\"autoplay\"></iframe>\n"
            ]
          },
          "metadata": {}
        }
      ]
    },
    {
      "cell_type": "markdown",
      "source": [
        "## Install and install libraries/methods"
      ],
      "metadata": {
        "id": "mdJu2OJf7BXd"
      }
    },
    {
      "cell_type": "code",
      "source": [
        "import pandas as pd\n",
        "import matplotlib.pyplot as plt\n",
        "import nltk\n",
        "import numpy as np\n",
        "import seaborn as sns\n",
        "from string import punctuation\n",
        "from nltk.tokenize import word_tokenize, sent_tokenize\n",
        "from nltk.corpus import stopwords\n",
        "from nltk.stem import WordNetLemmatizer\n",
        "import re\n",
        "from nltk import pos_tag\n",
        "from wordcloud import WordCloud\n",
        "from collections import Counter\n",
        "from nltk.corpus import sentiwordnet as swn\n",
        "from nltk.sentiment.vader import SentimentIntensityAnalyzer\n",
        "from sklearn.feature_extraction.text import TfidfVectorizer\n",
        "import spacy.cli\n",
        "import spacy\n",
        "\n",
        "nltk.download('stopwords')\n",
        "nltk.download('sentiwordnet')\n",
        "nltk.download('vader_lexicon')\n",
        "nltk.download('wordnet')\n",
        "nltk.download('averaged_perceptron_tagger')\n",
        "nltk.download('punkt')\n",
        "\n",
        "spacy.cli.download(\"en_core_web_lg\")\n",
        "nlp = spacy.load(\"en_core_web_sm\", disable=[\"ner\", \"textcat\"])\n",
        "\n",
        "stopwords = set(stopwords.words(\"english\"))\n",
        "lemmatizer = WordNetLemmatizer()"
      ],
      "metadata": {
        "colab": {
          "base_uri": "https://localhost:8080/"
        },
        "id": "LVQ5tQc7wwsD",
        "outputId": "da529261-e25e-4f23-d17c-cefb8affdbf8"
      },
      "execution_count": null,
      "outputs": [
        {
          "output_type": "stream",
          "name": "stderr",
          "text": [
            "[nltk_data] Downloading package stopwords to /root/nltk_data...\n",
            "[nltk_data]   Package stopwords is already up-to-date!\n",
            "[nltk_data] Downloading package sentiwordnet to /root/nltk_data...\n",
            "[nltk_data]   Package sentiwordnet is already up-to-date!\n",
            "[nltk_data] Downloading package vader_lexicon to /root/nltk_data...\n",
            "[nltk_data]   Package vader_lexicon is already up-to-date!\n",
            "[nltk_data] Downloading package wordnet to /root/nltk_data...\n",
            "[nltk_data]   Package wordnet is already up-to-date!\n",
            "[nltk_data] Downloading package averaged_perceptron_tagger to\n",
            "[nltk_data]     /root/nltk_data...\n",
            "[nltk_data]   Package averaged_perceptron_tagger is already up-to-\n",
            "[nltk_data]       date!\n",
            "[nltk_data] Downloading package punkt to /root/nltk_data...\n",
            "[nltk_data]   Package punkt is already up-to-date!\n"
          ]
        },
        {
          "output_type": "stream",
          "name": "stdout",
          "text": [
            "\u001b[38;5;2m✔ Download and installation successful\u001b[0m\n",
            "You can now load the package via spacy.load('en_core_web_lg')\n"
          ]
        }
      ]
    },
    {
      "cell_type": "markdown",
      "source": [
        "### > Tokenizing data"
      ],
      "metadata": {
        "id": "7OASw3Wf7Klf"
      }
    },
    {
      "cell_type": "code",
      "source": [
        "def preprocess_text(text):\n",
        "    text = re.sub(r'[^a-zA-Z0-9\\s]', '', text.lower())\n",
        "    tokens = word_tokenize(text)\n",
        "    tagged_words = pos_tag(tokens)\n",
        "    return tagged_words\n",
        "\n",
        "def preprocess_file(file_path):\n",
        "    with open(file_path, 'r') as file:\n",
        "        preprocessed_text = []\n",
        "        for line in file:\n",
        "            preprocessed_line = preprocess_text(line)\n",
        "            preprocessed_text.extend(preprocessed_line)\n",
        "        return preprocessed_text"
      ],
      "metadata": {
        "id": "qtf-54A_w0Wq"
      },
      "execution_count": null,
      "outputs": []
    },
    {
      "cell_type": "markdown",
      "source": [
        "### > Lexicalization with WordNet"
      ],
      "metadata": {
        "id": "_SUwSMk47Q8S"
      }
    },
    {
      "cell_type": "code",
      "source": [
        "def get_wordnet_pos(tag):\n",
        "    if tag.startswith('J'):\n",
        "        return nltk.corpus.wordnet.ADJ\n",
        "    elif tag.startswith('V'):\n",
        "        return nltk.corpus.wordnet.VERB\n",
        "    elif tag.startswith('N'):\n",
        "        return nltk.corpus.wordnet.NOUN\n",
        "    elif tag.startswith('R'):\n",
        "        return nltk.corpus.wordnet.ADV\n",
        "    else:\n",
        "        return nltk.corpus.wordnet.NOUN"
      ],
      "metadata": {
        "id": "984kdE9Bw2vt"
      },
      "execution_count": null,
      "outputs": []
    },
    {
      "cell_type": "markdown",
      "source": [
        "### > Distribution of POS"
      ],
      "metadata": {
        "id": "cKpNv8Ie7z7f"
      }
    },
    {
      "cell_type": "code",
      "source": [
        "def pos_distribution(preprocessed_file):\n",
        "    pos_counts = Counter()\n",
        "    total_words = 0\n",
        "\n",
        "    for sentence in preprocessed_file:\n",
        "        for word_tag in sentence:\n",
        "            if len(word_tag) == 2:\n",
        "                word, tag = word_tag\n",
        "                pos_counts[tag] += 1\n",
        "                total_words += 1\n",
        "\n",
        "    pos_distribution = {tag: count / total_words for tag, count in pos_counts.items()}\n",
        "\n",
        "    return pos_distribution"
      ],
      "metadata": {
        "id": "1sTFd2cyw7z3"
      },
      "execution_count": null,
      "outputs": []
    },
    {
      "cell_type": "code",
      "source": [
        "jfk = '/content/drive/MyDrive/dighum101 dh indi proj txt files/JFK Peace Speech.txt'\n",
        "obama = '/content/drive/MyDrive/dighum101 dh indi proj txt files/Obama Speech Against The Iraq War.txt'\n",
        "biden = '/content/drive/MyDrive/dighum101 dh indi proj txt files/Joe Biden Speech in Poland.txt'\n",
        "\n",
        "preprocessed_jfk = preprocess_file(jfk)\n",
        "preprocessed_obama = preprocess_file(obama)\n",
        "preprocessed_biden = preprocess_file(biden)\n",
        "\n",
        "distribution1 = pos_distribution(preprocessed_jfk)\n",
        "distribution2 = pos_distribution(preprocessed_obama)\n",
        "distribution3 = pos_distribution(preprocessed_biden)\n",
        "\n",
        "print(distribution1)\n",
        "print(distribution2)\n",
        "print(distribution3)"
      ],
      "metadata": {
        "colab": {
          "base_uri": "https://localhost:8080/"
        },
        "id": "DAtvGJHww_CW",
        "outputId": "f2382e33-bf5c-4bf2-b16f-d943184008c5"
      },
      "execution_count": null,
      "outputs": [
        {
          "output_type": "stream",
          "name": "stdout",
          "text": [
            "{'N': 0.33996683250414594, 'J': 0.1044776119402985, 'f': 0.0472636815920398, 'T': 0.11028192371475953, 'y': 0.015754560530679935, 'P': 0.00912106135986733, 'm': 0.003316749585406302, 'n': 0.024875621890547265, '0': 0.0008291873963515755, 'D': 0.02321724709784411, 'C': 0.06135986733001658, 't': 0.017412935323383085, 's': 0.03150912106135987, 'B': 0.11359867330016583, 'o': 0.03897180762852405, 'O': 0.026533996683250415, 'r': 0.005804311774461028, 'e': 0.02155887230514096, 'X': 0.003316749585406302, 'W': 0.0008291873963515755}\n",
            "{'J': 0.1006060606060606, 'N': 0.3515151515151515, 'B': 0.09212121212121212, 'e': 0.025454545454545455, 'y': 0.0048484848484848485, 'T': 0.13575757575757577, 's': 0.01818181818181818, 'n': 0.04, 'P': 0.027878787878787878, 'o': 0.03636363636363636, 'O': 0.02909090909090909, 'D': 0.019393939393939394, 'f': 0.03636363636363636, 'C': 0.06181818181818182, 't': 0.0024242424242424242, 'p': 0.0048484848484848485, '1': 0.0012121212121212121, 'X': 0.0012121212121212121, 'r': 0.0024242424242424242, 'm': 0.008484848484848486}\n",
            "{'e': 0.02047082906857728, 'B': 0.1132719208461276, 'J': 0.09791879904469464, 'T': 0.1221426134425111, 'N': 0.36131013306038895, 'f': 0.04094165813715456, 'n': 0.03138860457181849, 'D': 0.032753326509723645, 'P': 0.007505970658478335, 'o': 0.042988741044012284, 'O': 0.037529853292391675, 'i': 0.0010235414534288639, 's': 0.0197884680996247, 't': 0.00989423404981235, 'C': 0.04674172637325145, '0': 0.0010235414534288639, 'r': 0.004435346298191744, 'y': 0.005458887751620608, 'p': 0.0010235414534288639, 'X': 0.000682360968952576, 'm': 0.000682360968952576, '6': 0.000341180484476288, '1': 0.000341180484476288, '7': 0.000341180484476288}\n"
          ]
        }
      ]
    },
    {
      "cell_type": "code",
      "source": [
        "def analyze_pos_distribution(pos_distribution):\n",
        "    # Convert the pos_distribution dictionary to a list of (pos, count) tuples\n",
        "    pos_counts = list(pos_distribution.items())\n",
        "\n",
        "    # Sort the list by count in descending order\n",
        "    pos_counts.sort(key=lambda x: x[1], reverse=True)\n",
        "\n",
        "    # Extract the top 10 most frequent words with their POS tags and counts\n",
        "    top_words = pos_counts[:10]\n",
        "\n",
        "    # Create a DataFrame to display the results\n",
        "    df = pd.DataFrame(top_words, columns=['POS', 'Count'])\n",
        "    df['Word'] = df['POS'].apply(lambda x: x[0])\n",
        "    df['POS'] = df['POS'].apply(lambda x: x[1])\n",
        "    df = df[['Word', 'POS', 'Count']]\n",
        "\n",
        "    # Plot a bar graph of the word frequencies\n",
        "    plt.figure(figsize=(10, 6))\n",
        "    plt.bar(df['Word'], df['Count'])\n",
        "    plt.xlabel('Word')\n",
        "    plt.ylabel('Frequency')\n",
        "    plt.title('Top 10 Most Frequent Words with POS')\n",
        "    plt.xticks(rotation=45)\n",
        "    plt.tight_layout()\n",
        "    plt.show()\n",
        "\n",
        "    return df\n",
        "\n",
        "distribution1 = pos_distribution(preprocessed_jfk)\n",
        "distribution2 = pos_distribution(preprocessed_obama)\n",
        "distribution3 = pos_distribution(preprocessed_biden)\n",
        "\n",
        "print(distribution1)\n",
        "print(distribution2)\n",
        "print(distribution3)"
      ],
      "metadata": {
        "colab": {
          "base_uri": "https://localhost:8080/"
        },
        "id": "-SwsFyymu_Dt",
        "outputId": "8f625257-8746-42c5-fcf3-caa760ff03c8"
      },
      "execution_count": null,
      "outputs": [
        {
          "output_type": "stream",
          "name": "stdout",
          "text": [
            "{'N': 0.33996683250414594, 'J': 0.1044776119402985, 'f': 0.0472636815920398, 'T': 0.11028192371475953, 'y': 0.015754560530679935, 'P': 0.00912106135986733, 'm': 0.003316749585406302, 'n': 0.024875621890547265, '0': 0.0008291873963515755, 'D': 0.02321724709784411, 'C': 0.06135986733001658, 't': 0.017412935323383085, 's': 0.03150912106135987, 'B': 0.11359867330016583, 'o': 0.03897180762852405, 'O': 0.026533996683250415, 'r': 0.005804311774461028, 'e': 0.02155887230514096, 'X': 0.003316749585406302, 'W': 0.0008291873963515755}\n",
            "{'J': 0.1006060606060606, 'N': 0.3515151515151515, 'B': 0.09212121212121212, 'e': 0.025454545454545455, 'y': 0.0048484848484848485, 'T': 0.13575757575757577, 's': 0.01818181818181818, 'n': 0.04, 'P': 0.027878787878787878, 'o': 0.03636363636363636, 'O': 0.02909090909090909, 'D': 0.019393939393939394, 'f': 0.03636363636363636, 'C': 0.06181818181818182, 't': 0.0024242424242424242, 'p': 0.0048484848484848485, '1': 0.0012121212121212121, 'X': 0.0012121212121212121, 'r': 0.0024242424242424242, 'm': 0.008484848484848486}\n",
            "{'e': 0.02047082906857728, 'B': 0.1132719208461276, 'J': 0.09791879904469464, 'T': 0.1221426134425111, 'N': 0.36131013306038895, 'f': 0.04094165813715456, 'n': 0.03138860457181849, 'D': 0.032753326509723645, 'P': 0.007505970658478335, 'o': 0.042988741044012284, 'O': 0.037529853292391675, 'i': 0.0010235414534288639, 's': 0.0197884680996247, 't': 0.00989423404981235, 'C': 0.04674172637325145, '0': 0.0010235414534288639, 'r': 0.004435346298191744, 'y': 0.005458887751620608, 'p': 0.0010235414534288639, 'X': 0.000682360968952576, 'm': 0.000682360968952576, '6': 0.000341180484476288, '1': 0.000341180484476288, '7': 0.000341180484476288}\n"
          ]
        }
      ]
    },
    {
      "cell_type": "code",
      "source": [
        "distribution1_dict = dict(distribution1)\n",
        "distribution2_dict = dict(distribution2)\n",
        "distribution3_dict = dict(distribution3)"
      ],
      "metadata": {
        "id": "uVI0PwDXxUnu"
      },
      "execution_count": null,
      "outputs": []
    },
    {
      "cell_type": "code",
      "source": [
        "keys1 = list(distribution1_dict.keys())\n",
        "values1 = list(distribution1_dict.values())\n",
        "\n",
        "keys2 = list(distribution2_dict.keys())\n",
        "values2 = list(distribution2_dict.values())\n",
        "\n",
        "keys3 = list(distribution3_dict.keys())\n",
        "values3 = list(distribution3_dict.values())"
      ],
      "metadata": {
        "id": "ArFS3AioxVx9"
      },
      "execution_count": null,
      "outputs": []
    },
    {
      "cell_type": "code",
      "source": [
        "plt.figure(figsize=(10, 6))\n",
        "plt.bar(keys1, values1, label='JFK Speech')\n",
        "plt.bar(keys2, values2, label='Obama Speech')\n",
        "plt.bar(keys3, values3, label='Biden Speech')\n",
        "plt.xlabel('POS Tag')\n",
        "plt.ylabel('Frequency')\n",
        "plt.title('Distribution of POS Tags in Speeches')\n",
        "plt.legend()\n",
        "plt.xticks(rotation=45)\n",
        "plt.tight_layout()\n",
        "plt.show()"
      ],
      "metadata": {
        "colab": {
          "base_uri": "https://localhost:8080/",
          "height": 607
        },
        "id": "YVe-ItxOvS4Y",
        "outputId": "b1f965d6-1857-406c-d077-4694d68005c0"
      },
      "execution_count": null,
      "outputs": [
        {
          "output_type": "display_data",
          "data": {
            "text/plain": [
              "<Figure size 1000x600 with 1 Axes>"
            ],
            "image/png": "[encoded data removed]"
          },
          "metadata": {}
        }
      ]
    },
    {
      "cell_type": "markdown",
      "source": [
        "###> Top words in speeches"
      ],
      "metadata": {
        "id": "aQ60S2FR7-0Z"
      }
    },
    {
      "cell_type": "code",
      "source": [
        "def pos_distribution(preprocessed_file):\n",
        "    pos_counts = Counter()\n",
        "    word_counts = Counter()\n",
        "    total_words = 0\n",
        "\n",
        "    for sentence in preprocessed_file:\n",
        "        for word_tag in sentence:\n",
        "            if len(word_tag) == 2:\n",
        "                word, tag = word_tag\n",
        "                pos_counts[tag] += 1\n",
        "                word_counts[(word, tag)] += 1\n",
        "                total_words += 1\n",
        "\n",
        "    pos_distribution = {tag: count / total_words for tag, count in pos_counts.items()}\n",
        "\n",
        "    return pos_distribution, word_counts"
      ],
      "metadata": {
        "id": "DUjyKveFxkjd"
      },
      "execution_count": null,
      "outputs": []
    },
    {
      "cell_type": "code",
      "source": [
        "preprocessed_jfk = preprocess_file(jfk)\n",
        "preprocessed_obama = preprocess_file(obama)\n",
        "preprocessed_biden = preprocess_file(biden)\n",
        "\n",
        "distribution1, word_counts1 = pos_distribution(preprocessed_jfk)\n",
        "distribution2, word_counts2 = pos_distribution(preprocessed_obama)\n",
        "distribution3, word_counts3 = pos_distribution(preprocessed_biden)"
      ],
      "metadata": {
        "id": "Of64IN3fxnJh"
      },
      "execution_count": null,
      "outputs": []
    },
    {
      "cell_type": "code",
      "source": [
        "# Get the most frequently used words with their POS tags\n",
        "top_words1 = word_counts1.most_common(10)\n",
        "top_words2 = word_counts2.most_common(10)\n",
        "top_words3 = word_counts3.most_common(10)"
      ],
      "metadata": {
        "id": "HOyPqMgmxpbq"
      },
      "execution_count": null,
      "outputs": []
    },
    {
      "cell_type": "code",
      "source": [
        "print(\"Top words in JFK Speech:\")\n",
        "for word, count in top_words1:\n",
        "    print(f\"Word: {word}, Count: {count}\")\n",
        "\n",
        "print(\"\\nTop words in Obama Speech:\")\n",
        "for word, count in top_words2:\n",
        "    print(f\"Word: {word}, Count: {count}\")\n",
        "\n",
        "print(\"\\nTop words in Biden Speech:\")\n",
        "for word, count in top_words3:\n",
        "    print(f\"Word: {word}, Count: {count}\")\n"
      ],
      "metadata": {
        "colab": {
          "base_uri": "https://localhost:8080/"
        },
        "id": "xHE-GQ-Xtlnl",
        "outputId": "f1ed6f59-2beb-41a4-ab55-604774f9a02e"
      },
      "execution_count": null,
      "outputs": [
        {
          "output_type": "stream",
          "name": "stdout",
          "text": [
            "Top words in JFK Speech:\n",
            "Word: ('N', 'N'), Count: 238\n",
            "Word: ('I', 'N'), Count: 172\n",
            "Word: ('D', 'T'), Count: 133\n",
            "Word: ('J', 'J'), Count: 126\n",
            "Word: ('C', 'C'), Count: 74\n",
            "Word: ('R', 'B'), Count: 69\n",
            "Word: ('V', 'B'), Count: 68\n",
            "Word: ('o', 'f'), Count: 57\n",
            "Word: ('t', 'o'), Count: 32\n",
            "Word: ('T', 'O'), Count: 32\n",
            "\n",
            "Top words in Obama Speech:\n",
            "Word: ('N', 'N'), Count: 169\n",
            "Word: ('I', 'N'), Count: 121\n",
            "Word: ('D', 'T'), Count: 112\n",
            "Word: ('J', 'J'), Count: 83\n",
            "Word: ('C', 'C'), Count: 51\n",
            "Word: ('V', 'B'), Count: 43\n",
            "Word: ('R', 'B'), Count: 33\n",
            "Word: ('o', 'f'), Count: 30\n",
            "Word: ('t', 'o'), Count: 24\n",
            "Word: ('T', 'O'), Count: 24\n",
            "\n",
            "Top words in Biden Speech:\n",
            "Word: ('N', 'N'), Count: 639\n",
            "Word: ('I', 'N'), Count: 420\n",
            "Word: ('D', 'T'), Count: 358\n",
            "Word: ('J', 'J'), Count: 287\n",
            "Word: ('R', 'B'), Count: 178\n",
            "Word: ('V', 'B'), Count: 154\n",
            "Word: ('C', 'C'), Count: 137\n",
            "Word: ('o', 'f'), Count: 119\n",
            "Word: ('t', 'o'), Count: 110\n",
            "Word: ('T', 'O'), Count: 110\n"
          ]
        }
      ]
    },
    {
      "cell_type": "code",
      "source": [
        "def visualize_pos_distribution(pos_distribution, title):\n",
        "    # Extract the tags and frequencies from the distribution dictionary\n",
        "    tags = list(pos_distribution.keys())\n",
        "    frequencies = list(pos_distribution.values())\n",
        "\n",
        "    # Create a bar plot\n",
        "    plt.figure(figsize=(8, 6))\n",
        "    plt.bar(tags, frequencies)\n",
        "    plt.xlabel('POS Tags')\n",
        "    plt.ylabel('Frequency')\n",
        "    plt.title(title)\n",
        "    plt.xticks(rotation=45)\n",
        "    plt.tight_layout()\n",
        "    plt.show()\n",
        "\n",
        "# Usage\n",
        "distribution1 = {'NN': 0.5, 'VB': 0.3, 'JJ': 0.2}\n",
        "distribution2 = {'NN': 0.4, 'VB': 0.4, 'JJ': 0.2}\n",
        "distribution3 = {'NN': 0.2, 'VB': 0.5, 'JJ': 0.3}\n",
        "\n",
        "visualize_pos_distribution(distribution1, 'JFK Speech POS Distribution')\n",
        "visualize_pos_distribution(distribution2, 'Obama Speech POS Distribution')\n",
        "visualize_pos_distribution(distribution3, 'Biden Speech POS Distribution')"
      ],
      "metadata": {
        "colab": {
          "base_uri": "https://localhost:8080/",
          "height": 1000
        },
        "id": "H_S7RfwUi7lm",
        "outputId": "f2ecd813-94bd-457f-ef74-cc5318cc9c62"
      },
      "execution_count": null,
      "outputs": [
        {
          "output_type": "display_data",
          "data": {
            "text/plain": [
              "<Figure size 800x600 with 1 Axes>"
            ],
            "image/png": "[encoded data removed]"
          },
          "metadata": {}
        },
        {
          "output_type": "display_data",
          "data": {
            "text/plain": [
              "<Figure size 800x600 with 1 Axes>"
            ],
            "image/png": "[encoded data removed]"
          },
          "metadata": {}
        },
        {
          "output_type": "display_data",
          "data": {
            "text/plain": [
              "<Figure size 800x600 with 1 Axes>"
            ],
            "image/png": "[encoded data removed]"
          },
          "metadata": {}
        }
      ]
    },
    {
      "cell_type": "markdown",
      "source": [
        "### **> Explanation of the results above:**\n",
        "\n",
        "The results above show the top words and their frequencies for each speech: JFK Speech, Obama Speech, and Biden Speech. Each word is represented as a tuple consisting of two elements: the part-of-speech (POS) tag and the word itself. Here's how to interpret the results.\n",
        "***\n",
        "\n",
        "- **For the JFK Speech:**\n",
        "\n",
        "  The most frequently occurring word has a POS tag of ('N', 'N') and appears 238 times.\n",
        "\n",
        "  The second most frequent word has a POS tag of ('I', 'N') and appears 172 times.\n",
        "\n",
        "  The third most frequent word has a POS tag of ('D', 'T') and appears 133 times.\n",
        "\n",
        "  The list continues in descending order, with the respective POS tags and word frequencies.\n",
        "\n",
        "***JFK's Peace speech script predominantly features noun phrases, highlighting a focus on conveying information, describing entities, and expressing ideas in the context of significant historical events and calls for peace.***\n",
        "***\n",
        "\n",
        "- **For the Obama Speech:**\n",
        "\n",
        "  The most frequently occurring word has a POS tag of ('N', 'N') and appears 169 times.\n",
        "\n",
        "  The second most frequent word has a POS tag of ('I', 'N') and appears 121 times.\n",
        "\n",
        "  The third most frequent word has a POS tag of ('D', 'T') and appears 112 times.\n",
        "\n",
        "  The list continues in descending order, with the respective POS tags and word frequencies.\n",
        "\n",
        "***Obama's speech against the Iraq War features diverse linguistic phrases, including noun, verb, and adjective phrases. This nuanced language approach effectively conveys his message with a persuasive tone.***\n",
        " ***\n",
        "\n",
        "- **For the Biden Speech:**\n",
        "\n",
        "  The most frequently occurring word has a POS tag of ('N', 'N') and appears 639 times.\n",
        "\n",
        "  The second most frequent word has a POS tag of ('I', 'N') and appears 420 times.\n",
        "\n",
        "  The third most frequent word has a POS tag of ('D', 'T') and appears 358 times.\n",
        "\n",
        "  The list continues in descending order, with the respective POS tags and word frequencies.\n",
        "\n",
        "***Joe Biden's speech in Poland features diverse linguistic phrases, including noun and adjective phrases. This multifaceted approach enhances Biden's communication style, blending informative language with assertive expressions to convey his policies and ideas convincingly.***\n",
        "***\n",
        "\n",
        "\n",
        "These results provide insights into the distribution of word frequencies for different parts of speech in each speech. It gives an idea of which types of words are more frequently used in the speeches and their relative frequencies compared to others."
      ],
      "metadata": {
        "id": "PehcpymNxuii"
      }
    },
    {
      "cell_type": "markdown",
      "source": [
        "###*It's important to note that the analysis focuses on the frequency of POS tags and does not capture the overall content or structure of the speech. Therefore, it is advisable to conduct a more comprehensive linguistic analysis to gain a deeper understanding of the speech's composition and linguistic features beyond the POS analyzation results.*"
      ],
      "metadata": {
        "id": "xq63ZnYj-4oj"
      }
    },
    {
      "cell_type": "markdown",
      "source": [
        "# **Conclusion**\n",
        "\n",
        "These results showcase the frequency of specific POS tags in each speech, revealing the prominent linguistic patterns used by these political leaders. By analyzing the distribution of nouns (NN), proper nouns (NNP), verbs (VB), adjectives (JJ), and other POS tags, **researchers can gain insights into the language choices, rhetorical strategies, and communication styles of the speakers.**\n",
        "\n",
        "By studying political speeches within their historical and cultural contexts, we can deepen our understanding of the socio-political landscape, historical events, and the evolution of public sentiment. This interdisciplinary approach, combining NLP techniques with historical and cultural analysis, contributes to the field of digital humanities by providing a comprehensive perspective on political speeches and their significance. It enables researchers to connect textual analysis with broader historical narratives, facilitating a more nuanced interpretation of political discourse and its impact on society.\n",
        "\n",
        "In addition to the valuable insights gained from the partial analysis conducted, such as part-of-speech distribution, there are further avenues for exploration in the field of text analysis. This includes delving into voice perception analysis, which can provide fascinating insights into the linguistic characteristics and patterns that influence our perception of political speeches. By combining techniques from Natural Language Processing (NLP) with voice perception analysis, researchers can delve deeper into understanding how linguistic features, such as word choice, syntax, and intonation, contribute to the overall impact and effectiveness of political speeches.\n",
        "\n",
        "For individuals with a general interest in text analysis and voice perception, this intersection of disciplines opens up exciting possibilities. It allows for a more comprehensive understanding of how language and speech are intricately connected, and how they shape our perceptions, beliefs, and attitudes. Exploring these areas not only contributes to the field of Digital Humanities but also has implications for linguistics, cognitive science, and communication studies.\n",
        "\n",
        "By utilizing NLP techniques and approaches from the field of Digital Humanities, researchers and linguistics majors can gain a deeper understanding of political speeches' historical and cultural contexts, linguistic patterns, and their impact on society. This analysis serves as a bridge between textual analysis and historical-cultural studies, enabling a more comprehensive exploration of political speeches and their significance. It also provides a foundation for further research and advancements in voice perception analysis, contributing to our understanding of how language influences our perception of political discourse and public figures.\n",
        "\n",
        "Overall, the combination of text analysis, historical-cultural studies, and voice perception analysis offers a multidimensional perspective on political speeches. It not only facilitates a deeper understanding of the historical and cultural context in which these speeches were delivered but also sheds light on the intricacies of language, rhetoric, and communication. By embracing interdisciplinary approaches, researchers can uncover new insights, challenge existing interpretations, and contribute to the broader fields of Digital Humanities, linguistics, and cognitive science."
      ],
      "metadata": {
        "id": "x6tI9DZOz2pL"
      }
    }
  ],
  "metadata": {
    "colab": {
      "provenance": [],
      "collapsed_sections": [
        "7NW_hY-5HBkb"
      ],
      "mount_file_id": "13Siz-Euyyxo5GwWY7WkN2RF_Ytzjb_Zc",
      "authorship_tag": "ABX9TyOBZuMZjuy5hvfaDp/9nAT/",
      "include_colab_link": true
    },
    "kernelspec": {
      "display_name": "Python 3",
      "name": "python3"
    },
    "language_info": {
      "name": "python"
    }
  },
  "nbformat": 4,
  "nbformat_minor": 0
}